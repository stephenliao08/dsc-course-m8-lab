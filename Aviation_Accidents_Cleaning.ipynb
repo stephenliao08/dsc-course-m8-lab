{
 "cells": [
  {
   "cell_type": "markdown",
   "id": "d7485d62",
   "metadata": {},
   "source": [
    "# Aviation Accidents Analysis\n",
    "\n",
    "You are part of a consulting firm that is tasked to do an analysis of commercial and passenger jet airline safety. The client (an airline/airplane insurer) is interested in knowing what types of aircraft (makes/models) exhibit low rates of total destruction and low likelihood of fatal or serious passenger injuries in the event of an accident. They are also interested in any general variables/conditions that might be at play. Your analysis will be based off of aviation accident data accumulated from the years 1948-2023. \n",
    "\n",
    "Our client is only interested in airplane makes/models that are professional builds and could potentially still be active. Assume a max lifetime of 40 years for a make/model retirement and make sure to filter your data accordingly (i.e. from 1983 onwards). They would also like separate recommendations for small aircraft vs. larger passenger models. **In addition, make sure that claims that you make are statistically robust and that you have enough samples when making comparisons between groups.**\n",
    "\n",
    "\n",
    "In this summative assessment you will demonstrate your ability to:\n",
    "- **Use Pandas to load, inspect, and clean the dataset appropriately.**\n",
    "- **Transform relevant columns to create measures that address the problem at hand.**\n",
    "- conduct EDA: visualization and statistical measures to systematically understand the structure of the data\n",
    "- recommend a set of airplanes and makes conforming to the client's request and identify at least *two* factors contributing to airplane safety. You must provide supporting evidence (visuals, summary statistics, tables) for each claim you make."
   ]
  },
  {
   "cell_type": "markdown",
   "id": "73e582c5",
   "metadata": {},
   "source": [
    "### Make relevant library imports"
   ]
  },
  {
   "cell_type": "code",
   "execution_count": 388,
   "id": "a72188a8",
   "metadata": {},
   "outputs": [],
   "source": [
    "import pandas as pd\n",
    "import numpy as np\n",
    "import matplotlib.pyplot as plt\n",
    "import seaborn as sns\n",
    "import os"
   ]
  },
  {
   "cell_type": "markdown",
   "id": "5b1fc321",
   "metadata": {},
   "source": [
    "## Data Loading and Inspection"
   ]
  },
  {
   "cell_type": "markdown",
   "id": "57becc28",
   "metadata": {},
   "source": [
    "### Load in data from the relevant directory and inspect the dataframe.\n",
    "- inspect NaNs, datatypes, and summary statistics"
   ]
  },
  {
   "cell_type": "code",
   "execution_count": 389,
   "id": "85235fa7",
   "metadata": {},
   "outputs": [
    {
     "name": "stderr",
     "output_type": "stream",
     "text": [
      "C:\\Users\\steve\\AppData\\Local\\Temp\\ipykernel_12092\\214533235.py:1: DtypeWarning: Columns (6,7,28) have mixed types. Specify dtype option on import or set low_memory=False.\n",
      "  aviation_df = pd.read_csv(\n"
     ]
    }
   ],
   "source": [
    "aviation_df = pd.read_csv(\n",
    "    r'c:\\Users\\steve\\Desktop\\Flatiron\\Week2\\dsc-course0-m8-lab-main\\dsc-course0-m8-lab-main\\data\\AviationData.csv',\n",
    "    encoding='latin1',\n",
    "    index_col=0\n",
    ")"
   ]
  },
  {
   "cell_type": "code",
   "execution_count": 390,
   "id": "52346808",
   "metadata": {},
   "outputs": [
    {
     "name": "stdout",
     "output_type": "stream",
     "text": [
      "Schedule                  76307\n",
      "Air.carrier               72241\n",
      "FAR.Description           56866\n",
      "Aircraft.Category         56602\n",
      "Longitude                 54516\n",
      "Latitude                  54507\n",
      "Airport.Code              38757\n",
      "Airport.Name              36185\n",
      "Broad.phase.of.flight     27165\n",
      "Publication.Date          13771\n",
      "Total.Serious.Injuries    12510\n",
      "Total.Minor.Injuries      11933\n",
      "Total.Fatal.Injuries      11401\n",
      "Engine.Type                7096\n",
      "Report.Status              6384\n",
      "Purpose.of.flight          6192\n",
      "Number.of.Engines          6084\n",
      "Total.Uninjured            5912\n",
      "Weather.Condition          4492\n",
      "Aircraft.damage            3194\n",
      "Registration.Number        1382\n",
      "Injury.Severity            1000\n",
      "Country                     226\n",
      "Amateur.Built               102\n",
      "Model                        92\n",
      "Make                         63\n",
      "Location                     52\n",
      "Accident.Number               0\n",
      "Event.Date                    0\n",
      "Investigation.Type            0\n",
      "dtype: int64\n"
     ]
    }
   ],
   "source": [
    "# inspect NaNs\n",
    "print(aviation_df.isna().sum().sort_values(ascending=False))"
   ]
  },
  {
   "cell_type": "code",
   "execution_count": 391,
   "id": "5fadd944",
   "metadata": {},
   "outputs": [
    {
     "name": "stdout",
     "output_type": "stream",
     "text": [
      "<class 'pandas.core.frame.DataFrame'>\n",
      "Index: 88889 entries, 20001218X45444 to 20221230106513\n",
      "Data columns (total 30 columns):\n",
      " #   Column                  Non-Null Count  Dtype  \n",
      "---  ------                  --------------  -----  \n",
      " 0   Investigation.Type      88889 non-null  object \n",
      " 1   Accident.Number         88889 non-null  object \n",
      " 2   Event.Date              88889 non-null  object \n",
      " 3   Location                88837 non-null  object \n",
      " 4   Country                 88663 non-null  object \n",
      " 5   Latitude                34382 non-null  object \n",
      " 6   Longitude               34373 non-null  object \n",
      " 7   Airport.Code            50132 non-null  object \n",
      " 8   Airport.Name            52704 non-null  object \n",
      " 9   Injury.Severity         87889 non-null  object \n",
      " 10  Aircraft.damage         85695 non-null  object \n",
      " 11  Aircraft.Category       32287 non-null  object \n",
      " 12  Registration.Number     87507 non-null  object \n",
      " 13  Make                    88826 non-null  object \n",
      " 14  Model                   88797 non-null  object \n",
      " 15  Amateur.Built           88787 non-null  object \n",
      " 16  Number.of.Engines       82805 non-null  float64\n",
      " 17  Engine.Type             81793 non-null  object \n",
      " 18  FAR.Description         32023 non-null  object \n",
      " 19  Schedule                12582 non-null  object \n",
      " 20  Purpose.of.flight       82697 non-null  object \n",
      " 21  Air.carrier             16648 non-null  object \n",
      " 22  Total.Fatal.Injuries    77488 non-null  float64\n",
      " 23  Total.Serious.Injuries  76379 non-null  float64\n",
      " 24  Total.Minor.Injuries    76956 non-null  float64\n",
      " 25  Total.Uninjured         82977 non-null  float64\n",
      " 26  Weather.Condition       84397 non-null  object \n",
      " 27  Broad.phase.of.flight   61724 non-null  object \n",
      " 28  Report.Status           82505 non-null  object \n",
      " 29  Publication.Date        75118 non-null  object \n",
      "dtypes: float64(5), object(25)\n",
      "memory usage: 21.0+ MB\n"
     ]
    }
   ],
   "source": [
    "aviation_df.info()"
   ]
  },
  {
   "cell_type": "markdown",
   "id": "2e9b8cc7",
   "metadata": {},
   "source": [
    "## Data Cleaning"
   ]
  },
  {
   "cell_type": "markdown",
   "id": "9c399343",
   "metadata": {},
   "source": [
    "We want to filter the dataset to include aircraft that the client is interested in an analysis of:\n",
    "- inspect relevant columns\n",
    "- figure out any reasonable imputations\n",
    "- filter the dataset"
   ]
  },
  {
   "cell_type": "markdown",
   "id": "c23efd78",
   "metadata": {},
   "source": [
    "### Filtering aircrafts and events"
   ]
  },
  {
   "cell_type": "code",
   "execution_count": 392,
   "id": "5a2b7eab",
   "metadata": {},
   "outputs": [
    {
     "data": {
      "text/plain": [
       "Index(['Investigation.Type', 'Accident.Number', 'Event.Date', 'Location',\n",
       "       'Country', 'Latitude', 'Longitude', 'Airport.Code', 'Airport.Name',\n",
       "       'Injury.Severity', 'Aircraft.damage', 'Aircraft.Category',\n",
       "       'Registration.Number', 'Make', 'Model', 'Amateur.Built',\n",
       "       'Number.of.Engines', 'Engine.Type', 'FAR.Description', 'Schedule',\n",
       "       'Purpose.of.flight', 'Air.carrier', 'Total.Fatal.Injuries',\n",
       "       'Total.Serious.Injuries', 'Total.Minor.Injuries', 'Total.Uninjured',\n",
       "       'Weather.Condition', 'Broad.phase.of.flight', 'Report.Status',\n",
       "       'Publication.Date'],\n",
       "      dtype='object')"
      ]
     },
     "execution_count": 392,
     "metadata": {},
     "output_type": "execute_result"
    }
   ],
   "source": [
    "aviation_df.columns"
   ]
  },
  {
   "cell_type": "code",
   "execution_count": 393,
   "id": "5e07d5e7",
   "metadata": {},
   "outputs": [],
   "source": [
    "columns_to_drop = [\n",
    "    'Accident.Number', 'Location', 'Country', 'Latitude', 'Longitude',\n",
    "    'Airport.Code', 'Airport.Name', 'Registration.Number', 'Air.carrier',\n",
    "    'Report.Status', 'Publication.Date'\n",
    "]   #Removing irrelavant data in respect to the prompt\n",
    "\n",
    "aviation_cleaned_df = aviation_df.copy().drop(columns=columns_to_drop)\n",
    "aviation_cleaned_df = aviation_cleaned_df.reset_index()"
   ]
  },
  {
   "cell_type": "code",
   "execution_count": 394,
   "id": "6cf6aed8",
   "metadata": {},
   "outputs": [],
   "source": [
    "aviation_cleaned_df['Event.Date'] = pd.to_datetime(aviation_cleaned_df['Event.Date'], errors='coerce')\n",
    "aviation_cleaned_df = aviation_cleaned_df[aviation_cleaned_df['Event.Date'].dt.year >= 1983] #include only Event.Date above 1983"
   ]
  },
  {
   "cell_type": "code",
   "execution_count": 395,
   "id": "42a8cb1a",
   "metadata": {},
   "outputs": [
    {
     "data": {
      "text/plain": [
       "Index(['Event.Id', 'Investigation.Type', 'Event.Date', 'Injury.Severity',\n",
       "       'Aircraft.damage', 'Aircraft.Category', 'Make', 'Model',\n",
       "       'Amateur.Built', 'Number.of.Engines', 'Engine.Type', 'FAR.Description',\n",
       "       'Schedule', 'Purpose.of.flight', 'Total.Fatal.Injuries',\n",
       "       'Total.Serious.Injuries', 'Total.Minor.Injuries', 'Total.Uninjured',\n",
       "       'Weather.Condition', 'Broad.phase.of.flight'],\n",
       "      dtype='object')"
      ]
     },
     "execution_count": 395,
     "metadata": {},
     "output_type": "execute_result"
    }
   ],
   "source": [
    "aviation_cleaned_df.columns"
   ]
  },
  {
   "cell_type": "markdown",
   "id": "36d26002",
   "metadata": {},
   "source": [
    "### Cleaning and constructing Key Measurables\n",
    "\n",
    "Injuries and robustness to destruction are a key interest point for the client. Clean and impute relevant columns and then create derived fields that best quantifies what the client wishes to track. **Use commenting or markdown to explain any cleaning assumptions as well as any derived columns you create.**"
   ]
  },
  {
   "cell_type": "markdown",
   "id": "070b08f8",
   "metadata": {},
   "source": [
    "**Construct metric for fatal/serious injuries**\n",
    "\n",
    "*Hint:* Estimate the total number of passengers on each flight. The likelihood of serious / fatal injury can be estimated as a fraction from this."
   ]
  },
  {
   "cell_type": "code",
   "execution_count": 396,
   "id": "ef28a6d4",
   "metadata": {},
   "outputs": [],
   "source": [
    "injury_cols = [\n",
    "    'Total.Fatal.Injuries', \n",
    "    'Total.Serious.Injuries', \n",
    "    'Total.Minor.Injuries', \n",
    "    'Total.Uninjured'\n",
    "]\n",
    "\n",
    "for col in injury_cols:\n",
    "    aviation_cleaned_df[col] = aviation_cleaned_df[col].fillna(0).astype(int)\n",
    "\n",
    "for col in injury_cols:\n",
    "    # Replace empty strings and whitespace with NaN, then fill NaN with 0 in the 4 columns above\n",
    "    aviation_cleaned_df[col] = (\n",
    "        aviation_cleaned_df[col]\n",
    "        .replace(r'^\\s*$', pd.NA, regex=True)\n",
    "        .astype('float')\n",
    "        .fillna(0)\n",
    "    )"
   ]
  },
  {
   "cell_type": "code",
   "execution_count": 397,
   "id": "299cd31f",
   "metadata": {},
   "outputs": [],
   "source": [
    "# Create 'Total.Passengers' and cast to integer\n",
    "aviation_cleaned_df['Total.Passengers'] = (\n",
    "    aviation_cleaned_df['Total.Fatal.Injuries'] +\n",
    "    aviation_cleaned_df['Total.Serious.Injuries'] +\n",
    "    aviation_cleaned_df['Total.Minor.Injuries'] +\n",
    "    aviation_cleaned_df['Total.Uninjured']\n",
    ").astype(int)\n",
    "\n",
    "# Create 'Total.Fatal/Serious_injuries' and cast to integer\n",
    "aviation_cleaned_df['Total.Fatal/Serious_injuries'] = (\n",
    "    aviation_cleaned_df['Total.Fatal.Injuries'] +\n",
    "    aviation_cleaned_df['Total.Serious.Injuries']\n",
    ").astype(int)"
   ]
  },
  {
   "cell_type": "markdown",
   "id": "6c89136b",
   "metadata": {},
   "source": [
    "**Aircraft.Damage**\n",
    "- identify and execute any cleaning tasks\n",
    "- construct a derived column tracking whether an aircraft was destroyed or not."
   ]
  },
  {
   "cell_type": "code",
   "execution_count": 398,
   "id": "91b518b1",
   "metadata": {},
   "outputs": [
    {
     "name": "stdout",
     "output_type": "stream",
     "text": [
      "Aircraft.damage\n",
      "Substantial    61775\n",
      "Destroyed      17575\n",
      "Unknown         3257\n",
      "Minor           2682\n",
      "Name: count, dtype: int64\n"
     ]
    }
   ],
   "source": [
    "# Clean 'Aircraft.damage' column, converting blanks and \"Nan\" strings to \"Unknown\"\n",
    "aviation_cleaned_df['Aircraft.damage'] = (\n",
    "    aviation_cleaned_df['Aircraft.damage']\n",
    "    .astype(str)\n",
    "    .str.strip()\n",
    "    .str.title()\n",
    "    .replace([r'^\\s*$', 'Nan', 'NaN'], 'Unknown', regex=True)\n",
    ")\n",
    "\n",
    "# View cleaned value counts\n",
    "print(aviation_cleaned_df['Aircraft.damage'].value_counts(dropna=False))"
   ]
  },
  {
   "cell_type": "code",
   "execution_count": 399,
   "id": "3afd8dfd",
   "metadata": {},
   "outputs": [
    {
     "name": "stdout",
     "output_type": "stream",
     "text": [
      "Aircraft.destroyed\n",
      "False    67714\n",
      "True     17575\n",
      "Name: count, dtype: int64\n"
     ]
    }
   ],
   "source": [
    "aviation_cleaned_df['Aircraft.destroyed'] = aviation_cleaned_df['Aircraft.damage'] == 'Destroyed'\n",
    "#Creates Aircraft.destroyed column based on if Aircraft.Damage = Destroyed\n",
    "print(aviation_cleaned_df['Aircraft.destroyed'].value_counts(dropna=False))"
   ]
  },
  {
   "cell_type": "markdown",
   "id": "e9d8af9b",
   "metadata": {},
   "source": [
    "### Investigate the *Make* column\n",
    "- Identify cleaning tasks here\n",
    "- List cleaning tasks clearly in markdown\n",
    "- Execute the cleaning tasks\n",
    "- For your analysis, keep Makes with a reasonable number (you can put the threshold at 50 though lower could work as well)"
   ]
  },
  {
   "cell_type": "code",
   "execution_count": 400,
   "id": "cf9005cf",
   "metadata": {},
   "outputs": [],
   "source": [
    "aviation_cleaned_df['Make'] = aviation_cleaned_df['Make'].astype(str).str.strip().str.title()\n",
    "#Strip whitespace and standardize casing"
   ]
  },
  {
   "cell_type": "code",
   "execution_count": 401,
   "id": "e4915868",
   "metadata": {},
   "outputs": [],
   "source": [
    "aviation_cleaned_df['Make'] = (\n",
    "    aviation_cleaned_df['Make']\n",
    "    .astype(str)                      # Ensure all entries are strings\n",
    "    .str.replace(',', '', regex=False)    # Remove commas\n",
    "    .str.replace('.', '', regex=False)    # Remove periods\n",
    "    .str.replace('-', ' ', regex=False)    # Reomve hyphen\n",
    "    .str.replace('/', ' ', regex=False)   # Replace slashes with spaces\n",
    "    .str.strip()                      # Trim leading/trailing whitespace\n",
    ")\n"
   ]
  },
  {
   "cell_type": "code",
   "execution_count": 402,
   "id": "689dfca7",
   "metadata": {},
   "outputs": [],
   "source": [
    "#  Drop rows with missing Make or Total.Passengers\n",
    "aviation_cleaned_df = aviation_cleaned_df.dropna(subset=['Make', 'Total.Passengers'])\n",
    "\n",
    "# Ensure Total.Passengers is numeric\n",
    "aviation_cleaned_df['Total.Passengers'] = pd.to_numeric(\n",
    "    aviation_cleaned_df['Total.Passengers'], errors='coerce'\n",
    ")\n",
    "\n",
    "aviation_cleaned_df = aviation_cleaned_df[\n",
    "    ~aviation_cleaned_df['Make'].isin(['', 'Nan', 'NaN'])\n",
    "]\n",
    "\n",
    "make_replacements = {\n",
    "    'Bombardier Inc': 'Bombardier',\n",
    "    'De Havilland': 'Dehavilland',\n",
    "    'Mcdonnell Douglas Aircraft Co': 'Mcdonnell Douglas',\n",
    "    'Saab Scania Ab (Saab)': 'Saab'\n",
    "}\n",
    "\n",
    "aviation_cleaned_df['Make'] = aviation_cleaned_df['Make'].replace(make_replacements)\n",
    "\n",
    "# Aggregate total passengers by Make\n",
    "passenger_by_make = (\n",
    "    aviation_cleaned_df.groupby('Make')['Total.Passengers']\n",
    "    .sum()\n",
    "    .sort_values(ascending=False)\n",
    "    .head(50)\n",
    ")\n",
    "\n",
    "# Filter to only those top 50 makes\n",
    "aviation_cleaned_df = aviation_cleaned_df[\n",
    "    aviation_cleaned_df['Make'].isin(passenger_by_make.index)\n",
    "]"
   ]
  },
  {
   "cell_type": "markdown",
   "id": "6ed9f3c2",
   "metadata": {},
   "source": [
    "### Inspect Model column\n",
    "- Get rid of any NaNs.\n",
    "- Inspect the column and counts for each model/make. Are model labels unique to each make?\n",
    "- If not, create a derived column that is a unique identifier for a given plane type."
   ]
  },
  {
   "cell_type": "code",
   "execution_count": 403,
   "id": "05f20594",
   "metadata": {},
   "outputs": [],
   "source": [
    "aviation_cleaned_df['Model'] = (\n",
    "    aviation_cleaned_df['Model']\n",
    "    .astype(str)\n",
    "    .str.strip()\n",
    "    .str.upper()\n",
    ")\n",
    "\n",
    "aviation_cleaned_df['Model'] = (\n",
    "    aviation_cleaned_df['Model']\n",
    "    .astype(str)                      # Ensure all entries are strings\n",
    "    .str.replace(',', '', regex=False)    # Remove commas\n",
    "    .str.replace('.', '', regex=False)    # Remove periods\n",
    "    .str.replace('-', ' ', regex=False)    # Reomve hyphen\n",
    "    .str.replace('/', ' ', regex=False)   # Replace slashes with spaces\n",
    "    .str.strip()                      # Trim leading/trailing whitespace\n",
    ")\n",
    "\n",
    "# Remove NaN\n",
    "aviation_cleaned_df = aviation_cleaned_df.dropna(subset=['Model'])"
   ]
  },
  {
   "cell_type": "code",
   "execution_count": 404,
   "id": "e1372532",
   "metadata": {},
   "outputs": [],
   "source": [
    "import numpy as np\n",
    "import re\n",
    "\n",
    "# Standardize and compare Make and Model in a case-insensitive, whitespace-trimmed way\n",
    "same_make_model = (\n",
    "    aviation_cleaned_df['Make'].str.strip().str.upper() == \n",
    "    aviation_cleaned_df['Model'].str.strip().str.upper()\n",
    ")\n",
    "\n",
    "# Create the Aircraft_make_model column based on the comparison\n",
    "aviation_cleaned_df['Aircraft.Make_Model'] = np.where(\n",
    "    same_make_model,\n",
    "    aviation_cleaned_df['Make'],  # If same, just use Make\n",
    "    aviation_cleaned_df['Make'] + ' ' + aviation_cleaned_df['Model']  # Else, concatenate\n",
    ")\n",
    "\n",
    "# Pattern explanation:\n",
    "#   - (\\d)\\s+(\\d): captures a digit followed by spaces followed by another digit\n",
    "#   - (?=\\s*\\S*$): ensures this pattern occurs only in the **last two words** of the string\n",
    "#   - Ensures that Airbus A340  300 and Airbus A340300 are the same\n",
    "aviation_cleaned_df['Aircraft.Make_Model'] = aviation_cleaned_df['Aircraft.Make_Model'].str.replace(\n",
    "    r'(\\d)\\s+(\\d)(?=\\s*\\S*$)', r'\\1\\2', regex=True\n",
    ")\n",
    "\n"
   ]
  },
  {
   "cell_type": "markdown",
   "id": "65c7d691",
   "metadata": {},
   "source": []
  },
  {
   "cell_type": "markdown",
   "id": "9a173ebd",
   "metadata": {},
   "source": [
    "### Cleaning other columns\n",
    "- there are other columns containing data that might be related to the outcome of an accident. We list a few here:\n",
    "- Engine.Type\n",
    "- Weather.Condition\n",
    "- Number.of.Engines\n",
    "- Purpose.of.flight\n",
    "- Broad.phase.of.flight\n",
    "\n",
    "Inspect and identify potential cleaning tasks in each of the above columns. Execute those cleaning tasks. \n",
    "\n",
    "**Note**: You do not necessarily need to impute or drop NaNs here."
   ]
  },
  {
   "cell_type": "code",
   "execution_count": 405,
   "id": "01df492e",
   "metadata": {},
   "outputs": [],
   "source": [
    "# Define a standard cleaning function for categorical columns\n",
    "def clean_column(col, to_case='title'):\n",
    "    col = col.astype(str).str.strip()\n",
    "    if to_case == 'title':\n",
    "        return col.str.title()\n",
    "    elif to_case == 'upper':\n",
    "        return col.str.upper()\n",
    "    return col  # No case conversion\n",
    "\n",
    "# Engine.Type: clean and replace string 'Nan' with 'Unknown'\n",
    "aviation_cleaned_df['Engine.Type'] = clean_column(aviation_cleaned_df['Engine.Type'], to_case='title')\n",
    "aviation_cleaned_df['Engine.Type'] = aviation_cleaned_df['Engine.Type'].replace(['Nan', 'NaN', 'nan'], 'Unknown')\n",
    "\n",
    "# Weather.Condition: clean (already mostly upper case categories like VMC, IMC)\n",
    "aviation_cleaned_df['Weather.Condition'] = clean_column(aviation_cleaned_df['Weather.Condition'], to_case='upper')\n",
    "\n",
    "# Purpose.of.flight: clean and replace string 'Nan' with 'Unknown'\n",
    "aviation_cleaned_df['Purpose.of.flight'] = clean_column(aviation_cleaned_df['Purpose.of.flight'], to_case='title')\n",
    "aviation_cleaned_df['Purpose.of.flight'] = aviation_cleaned_df['Purpose.of.flight'].replace(['Nan', 'NaN', 'nan'], 'Unknown')\n",
    "\n",
    "# Broad.phase.of.flight: clean and replace string 'Nan' with 'Unknown'\n",
    "aviation_cleaned_df['Broad.phase.of.flight'] = clean_column(aviation_cleaned_df['Broad.phase.of.flight'], to_case='title')\n",
    "aviation_cleaned_df['Broad.phase.of.flight'] = aviation_cleaned_df['Broad.phase.of.flight'].replace(['Nan', 'NaN', 'nan'], 'Unknown')\n",
    "\n",
    "# Number.of.Engines: convert to numeric (non-convertible values become NaN)\n",
    "aviation_cleaned_df['Number.of.Engines'] = pd.to_numeric(\n",
    "    aviation_cleaned_df['Number.of.Engines'], errors='coerce'\n",
    ")"
   ]
  },
  {
   "cell_type": "markdown",
   "id": "12ad63d9",
   "metadata": {},
   "source": [
    "### Column Removal\n",
    "- inspect the dataframe and drop any columns that have too many NaNs"
   ]
  },
  {
   "cell_type": "code",
   "execution_count": 406,
   "id": "f661bb21",
   "metadata": {},
   "outputs": [
    {
     "data": {
      "text/plain": [
       "Schedule                        56134\n",
       "FAR.Description                 47095\n",
       "Aircraft.Category               46910\n",
       "Number.of.Engines                4470\n",
       "Injury.Severity                   888\n",
       "Amateur.Built                      86\n",
       "Total.Serious.Injuries              0\n",
       "Aircraft.destroyed                  0\n",
       "Total.Fatal/Serious_injuries        0\n",
       "Total.Passengers                    0\n",
       "Broad.phase.of.flight               0\n",
       "Weather.Condition                   0\n",
       "Total.Uninjured                     0\n",
       "Total.Minor.Injuries                0\n",
       "Event.Id                            0\n",
       "Total.Fatal.Injuries                0\n",
       "Purpose.of.flight                   0\n",
       "Investigation.Type                  0\n",
       "Engine.Type                         0\n",
       "Model                               0\n",
       "Make                                0\n",
       "Aircraft.damage                     0\n",
       "Event.Date                          0\n",
       "Aircraft.Make_Model                 0\n",
       "dtype: int64"
      ]
     },
     "execution_count": 406,
     "metadata": {},
     "output_type": "execute_result"
    }
   ],
   "source": [
    "#Inspect # of NaNs\n",
    "aviation_cleaned_df.isna().sum().sort_values(ascending=False)"
   ]
  },
  {
   "cell_type": "code",
   "execution_count": 407,
   "id": "dce74ca2",
   "metadata": {},
   "outputs": [],
   "source": [
    "#drop columns with many NaNs\n",
    "aviation_cleaned_df.drop(\n",
    "    columns=['Schedule', 'FAR.Description', 'Aircraft.Category'], \n",
    "    inplace=True\n",
    ")"
   ]
  },
  {
   "cell_type": "markdown",
   "id": "750d48f1",
   "metadata": {},
   "source": [
    "### Save DataFrame to csv\n",
    "- its generally useful to save data to file/server after its in a sufficiently cleaned or intermediate state\n",
    "- the data can then be loaded directly in another notebook for further analysis\n",
    "- this helps keep your notebooks and workflow readable, clean and modularized"
   ]
  },
  {
   "cell_type": "code",
   "execution_count": 408,
   "id": "b425a512",
   "metadata": {},
   "outputs": [],
   "source": [
    "aviation_cleaned_df.to_csv('AviationData_cleaned.csv', index=False)"
   ]
  },
  {
   "cell_type": "code",
   "execution_count": null,
   "id": "d1f57a20",
   "metadata": {},
   "outputs": [],
   "source": []
  }
 ],
 "metadata": {
  "kernelspec": {
   "display_name": "Python (learn-env)",
   "language": "python",
   "name": "learn-env"
  },
  "language_info": {
   "codemirror_mode": {
    "name": "ipython",
    "version": 3
   },
   "file_extension": ".py",
   "mimetype": "text/x-python",
   "name": "python",
   "nbconvert_exporter": "python",
   "pygments_lexer": "ipython3",
   "version": "3.12.7"
  }
 },
 "nbformat": 4,
 "nbformat_minor": 5
}
